{
 "cells": [
  {
   "cell_type": "markdown",
   "id": "da17d7c5-3a63-4164-aeb6-65fa687f1736",
   "metadata": {},
   "source": [
    "## Simple program to get two numbers from a list that sum up to a target sum"
   ]
  },
  {
   "cell_type": "code",
   "execution_count": 1,
   "id": "336ff5f7-a55a-497a-a555-13ca785124c7",
   "metadata": {},
   "outputs": [],
   "source": [
    "def two_number_sum(nums, target):\n",
    "    result =[]\n",
    "    for i,num in enumerate(nums):\n",
    "        if target - num in nums[i+1:]:\n",
    "            result.extend((num, target - num))\n",
    "    return result"
   ]
  },
  {
   "cell_type": "code",
   "execution_count": 3,
   "id": "a8710a39-6922-44f3-8ef0-9a1d479de244",
   "metadata": {},
   "outputs": [
    {
     "name": "stdout",
     "output_type": "stream",
     "text": [
      "[3, 7]\n"
     ]
    }
   ],
   "source": [
    "my_numbers = [3, -4 ,8, 5, 11, 1, -9, 6, 7]\n",
    "target_sum = 10\n",
    "print(two_number_sum(my_numbers, target_sum))"
   ]
  },
  {
   "cell_type": "code",
   "execution_count": null,
   "id": "228229e9-c2bd-474e-be75-985c0a91aaaa",
   "metadata": {},
   "outputs": [],
   "source": []
  }
 ],
 "metadata": {
  "kernelspec": {
   "display_name": "Python 3 (ipykernel)",
   "language": "python",
   "name": "python3"
  },
  "language_info": {
   "codemirror_mode": {
    "name": "ipython",
    "version": 3
   },
   "file_extension": ".py",
   "mimetype": "text/x-python",
   "name": "python",
   "nbconvert_exporter": "python",
   "pygments_lexer": "ipython3",
   "version": "3.10.6"
  }
 },
 "nbformat": 4,
 "nbformat_minor": 5
}
